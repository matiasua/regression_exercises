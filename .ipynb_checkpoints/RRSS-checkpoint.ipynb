{
 "cells": [
  {
   "cell_type": "code",
   "execution_count": 30,
   "metadata": {},
   "outputs": [],
   "source": [
    "import numpy as np\n",
    "import pandas as pd\n",
    "from sklearn import datasets, linear_model\n",
    "import matplotlib.pyplot as plt\n",
    "import seaborn as sns\n",
    "from sklearn.metrics import mean_squared_error, r2_score"
   ]
  },
  {
   "cell_type": "code",
   "execution_count": 31,
   "metadata": {},
   "outputs": [
    {
     "data": {
      "text/html": [
       "<div>\n",
       "<style scoped>\n",
       "    .dataframe tbody tr th:only-of-type {\n",
       "        vertical-align: middle;\n",
       "    }\n",
       "\n",
       "    .dataframe tbody tr th {\n",
       "        vertical-align: top;\n",
       "    }\n",
       "\n",
       "    .dataframe thead th {\n",
       "        text-align: right;\n",
       "    }\n",
       "</style>\n",
       "<table border=\"1\" class=\"dataframe\">\n",
       "  <thead>\n",
       "    <tr style=\"text-align: right;\">\n",
       "      <th></th>\n",
       "      <th>Title</th>\n",
       "      <th>url</th>\n",
       "      <th>Word count</th>\n",
       "      <th># of Links</th>\n",
       "      <th># of comments</th>\n",
       "      <th># Images video</th>\n",
       "      <th>Elapsed days</th>\n",
       "      <th># Shares</th>\n",
       "    </tr>\n",
       "  </thead>\n",
       "  <tbody>\n",
       "    <tr>\n",
       "      <th>0</th>\n",
       "      <td>What is Machine Learning and how do we use it ...</td>\n",
       "      <td>https://blog.signals.network/what-is-machine-l...</td>\n",
       "      <td>1888</td>\n",
       "      <td>1</td>\n",
       "      <td>2.0</td>\n",
       "      <td>2</td>\n",
       "      <td>34</td>\n",
       "      <td>200000</td>\n",
       "    </tr>\n",
       "    <tr>\n",
       "      <th>1</th>\n",
       "      <td>10 Companies Using Machine Learning in Cool Ways</td>\n",
       "      <td>NaN</td>\n",
       "      <td>1742</td>\n",
       "      <td>9</td>\n",
       "      <td>NaN</td>\n",
       "      <td>9</td>\n",
       "      <td>5</td>\n",
       "      <td>25000</td>\n",
       "    </tr>\n",
       "    <tr>\n",
       "      <th>2</th>\n",
       "      <td>How Artificial Intelligence Is Revolutionizing...</td>\n",
       "      <td>NaN</td>\n",
       "      <td>962</td>\n",
       "      <td>6</td>\n",
       "      <td>0.0</td>\n",
       "      <td>1</td>\n",
       "      <td>10</td>\n",
       "      <td>42000</td>\n",
       "    </tr>\n",
       "    <tr>\n",
       "      <th>3</th>\n",
       "      <td>Dbrain and the Blockchain of Artificial Intell...</td>\n",
       "      <td>NaN</td>\n",
       "      <td>1221</td>\n",
       "      <td>3</td>\n",
       "      <td>NaN</td>\n",
       "      <td>2</td>\n",
       "      <td>68</td>\n",
       "      <td>200000</td>\n",
       "    </tr>\n",
       "    <tr>\n",
       "      <th>4</th>\n",
       "      <td>Nasa finds entire solar system filled with eig...</td>\n",
       "      <td>NaN</td>\n",
       "      <td>2039</td>\n",
       "      <td>1</td>\n",
       "      <td>104.0</td>\n",
       "      <td>4</td>\n",
       "      <td>131</td>\n",
       "      <td>200000</td>\n",
       "    </tr>\n",
       "    <tr>\n",
       "      <th>...</th>\n",
       "      <td>...</td>\n",
       "      <td>...</td>\n",
       "      <td>...</td>\n",
       "      <td>...</td>\n",
       "      <td>...</td>\n",
       "      <td>...</td>\n",
       "      <td>...</td>\n",
       "      <td>...</td>\n",
       "    </tr>\n",
       "    <tr>\n",
       "      <th>156</th>\n",
       "      <td>[Log] 83: How Google Uses Machine Learning And...</td>\n",
       "      <td>[Log] 83: http://feedproxy.google.com/~r/Techc...</td>\n",
       "      <td>3239</td>\n",
       "      <td>3</td>\n",
       "      <td>11.0</td>\n",
       "      <td>1</td>\n",
       "      <td>84</td>\n",
       "      <td>3239</td>\n",
       "    </tr>\n",
       "    <tr>\n",
       "      <th>157</th>\n",
       "      <td>[Log] 84: Zuck Knows If You've Been Bad Or Goo...</td>\n",
       "      <td>[Log] 84: http://feedproxy.google.com/~r/Techc...</td>\n",
       "      <td>2566</td>\n",
       "      <td>3</td>\n",
       "      <td>8.0</td>\n",
       "      <td>4</td>\n",
       "      <td>85</td>\n",
       "      <td>25019</td>\n",
       "    </tr>\n",
       "    <tr>\n",
       "      <th>158</th>\n",
       "      <td>[Log] 85: Microsoft Improves Windows Phone Voi...</td>\n",
       "      <td>[Log] 85: http://feedproxy.google.com/~r/Techc...</td>\n",
       "      <td>2089</td>\n",
       "      <td>4</td>\n",
       "      <td>4.0</td>\n",
       "      <td>1</td>\n",
       "      <td>86</td>\n",
       "      <td>49614</td>\n",
       "    </tr>\n",
       "    <tr>\n",
       "      <th>159</th>\n",
       "      <td>[Log] 86: How Google's Acquisition Of DNNresea...</td>\n",
       "      <td>[Log] 86: http://feedproxy.google.com/~r/Techc...</td>\n",
       "      <td>1530</td>\n",
       "      <td>4</td>\n",
       "      <td>12.0</td>\n",
       "      <td>3</td>\n",
       "      <td>87</td>\n",
       "      <td>33660</td>\n",
       "    </tr>\n",
       "    <tr>\n",
       "      <th>160</th>\n",
       "      <td>[Log] 87: Google's Cloud Is Eating Apple's Lunch</td>\n",
       "      <td>[Log] 87: http://feedproxy.google.com/~r/Techc...</td>\n",
       "      <td>953</td>\n",
       "      <td>6</td>\n",
       "      <td>13.0</td>\n",
       "      <td>2</td>\n",
       "      <td>88</td>\n",
       "      <td>5956</td>\n",
       "    </tr>\n",
       "  </tbody>\n",
       "</table>\n",
       "<p>161 rows × 8 columns</p>\n",
       "</div>"
      ],
      "text/plain": [
       "                                                 Title  \\\n",
       "0    What is Machine Learning and how do we use it ...   \n",
       "1     10 Companies Using Machine Learning in Cool Ways   \n",
       "2    How Artificial Intelligence Is Revolutionizing...   \n",
       "3    Dbrain and the Blockchain of Artificial Intell...   \n",
       "4    Nasa finds entire solar system filled with eig...   \n",
       "..                                                 ...   \n",
       "156  [Log] 83: How Google Uses Machine Learning And...   \n",
       "157  [Log] 84: Zuck Knows If You've Been Bad Or Goo...   \n",
       "158  [Log] 85: Microsoft Improves Windows Phone Voi...   \n",
       "159  [Log] 86: How Google's Acquisition Of DNNresea...   \n",
       "160   [Log] 87: Google's Cloud Is Eating Apple's Lunch   \n",
       "\n",
       "                                                   url  Word count  \\\n",
       "0    https://blog.signals.network/what-is-machine-l...        1888   \n",
       "1                                                  NaN        1742   \n",
       "2                                                  NaN         962   \n",
       "3                                                  NaN        1221   \n",
       "4                                                  NaN        2039   \n",
       "..                                                 ...         ...   \n",
       "156  [Log] 83: http://feedproxy.google.com/~r/Techc...        3239   \n",
       "157  [Log] 84: http://feedproxy.google.com/~r/Techc...        2566   \n",
       "158  [Log] 85: http://feedproxy.google.com/~r/Techc...        2089   \n",
       "159  [Log] 86: http://feedproxy.google.com/~r/Techc...        1530   \n",
       "160  [Log] 87: http://feedproxy.google.com/~r/Techc...         953   \n",
       "\n",
       "     # of Links  # of comments  # Images video  Elapsed days  # Shares  \n",
       "0             1            2.0               2            34    200000  \n",
       "1             9            NaN               9             5     25000  \n",
       "2             6            0.0               1            10     42000  \n",
       "3             3            NaN               2            68    200000  \n",
       "4             1          104.0               4           131    200000  \n",
       "..          ...            ...             ...           ...       ...  \n",
       "156           3           11.0               1            84      3239  \n",
       "157           3            8.0               4            85     25019  \n",
       "158           4            4.0               1            86     49614  \n",
       "159           4           12.0               3            87     33660  \n",
       "160           6           13.0               2            88      5956  \n",
       "\n",
       "[161 rows x 8 columns]"
      ]
     },
     "execution_count": 31,
     "metadata": {},
     "output_type": "execute_result"
    }
   ],
   "source": [
    "df = pd.read_csv('articulos_ml.csv', sep=',')\n",
    "df"
   ]
  },
  {
   "cell_type": "code",
   "execution_count": 32,
   "metadata": {},
   "outputs": [
    {
     "data": {
      "text/plain": [
       "(161, 6)"
      ]
     },
     "execution_count": 32,
     "metadata": {},
     "output_type": "execute_result"
    }
   ],
   "source": [
    "df = df.drop(['Title', 'url'], 1)\n",
    "df.shape"
   ]
  },
  {
   "cell_type": "code",
   "execution_count": 33,
   "metadata": {},
   "outputs": [
    {
     "data": {
      "text/html": [
       "<div>\n",
       "<style scoped>\n",
       "    .dataframe tbody tr th:only-of-type {\n",
       "        vertical-align: middle;\n",
       "    }\n",
       "\n",
       "    .dataframe tbody tr th {\n",
       "        vertical-align: top;\n",
       "    }\n",
       "\n",
       "    .dataframe thead th {\n",
       "        text-align: right;\n",
       "    }\n",
       "</style>\n",
       "<table border=\"1\" class=\"dataframe\">\n",
       "  <thead>\n",
       "    <tr style=\"text-align: right;\">\n",
       "      <th></th>\n",
       "      <th>Word count</th>\n",
       "      <th># of Links</th>\n",
       "      <th># of comments</th>\n",
       "      <th># Images video</th>\n",
       "      <th>Elapsed days</th>\n",
       "      <th># Shares</th>\n",
       "    </tr>\n",
       "  </thead>\n",
       "  <tbody>\n",
       "    <tr>\n",
       "      <th>0</th>\n",
       "      <td>1888</td>\n",
       "      <td>1</td>\n",
       "      <td>2.0</td>\n",
       "      <td>2</td>\n",
       "      <td>34</td>\n",
       "      <td>200000</td>\n",
       "    </tr>\n",
       "    <tr>\n",
       "      <th>1</th>\n",
       "      <td>1742</td>\n",
       "      <td>9</td>\n",
       "      <td>NaN</td>\n",
       "      <td>9</td>\n",
       "      <td>5</td>\n",
       "      <td>25000</td>\n",
       "    </tr>\n",
       "    <tr>\n",
       "      <th>2</th>\n",
       "      <td>962</td>\n",
       "      <td>6</td>\n",
       "      <td>0.0</td>\n",
       "      <td>1</td>\n",
       "      <td>10</td>\n",
       "      <td>42000</td>\n",
       "    </tr>\n",
       "    <tr>\n",
       "      <th>3</th>\n",
       "      <td>1221</td>\n",
       "      <td>3</td>\n",
       "      <td>NaN</td>\n",
       "      <td>2</td>\n",
       "      <td>68</td>\n",
       "      <td>200000</td>\n",
       "    </tr>\n",
       "    <tr>\n",
       "      <th>4</th>\n",
       "      <td>2039</td>\n",
       "      <td>1</td>\n",
       "      <td>104.0</td>\n",
       "      <td>4</td>\n",
       "      <td>131</td>\n",
       "      <td>200000</td>\n",
       "    </tr>\n",
       "    <tr>\n",
       "      <th>...</th>\n",
       "      <td>...</td>\n",
       "      <td>...</td>\n",
       "      <td>...</td>\n",
       "      <td>...</td>\n",
       "      <td>...</td>\n",
       "      <td>...</td>\n",
       "    </tr>\n",
       "    <tr>\n",
       "      <th>156</th>\n",
       "      <td>3239</td>\n",
       "      <td>3</td>\n",
       "      <td>11.0</td>\n",
       "      <td>1</td>\n",
       "      <td>84</td>\n",
       "      <td>3239</td>\n",
       "    </tr>\n",
       "    <tr>\n",
       "      <th>157</th>\n",
       "      <td>2566</td>\n",
       "      <td>3</td>\n",
       "      <td>8.0</td>\n",
       "      <td>4</td>\n",
       "      <td>85</td>\n",
       "      <td>25019</td>\n",
       "    </tr>\n",
       "    <tr>\n",
       "      <th>158</th>\n",
       "      <td>2089</td>\n",
       "      <td>4</td>\n",
       "      <td>4.0</td>\n",
       "      <td>1</td>\n",
       "      <td>86</td>\n",
       "      <td>49614</td>\n",
       "    </tr>\n",
       "    <tr>\n",
       "      <th>159</th>\n",
       "      <td>1530</td>\n",
       "      <td>4</td>\n",
       "      <td>12.0</td>\n",
       "      <td>3</td>\n",
       "      <td>87</td>\n",
       "      <td>33660</td>\n",
       "    </tr>\n",
       "    <tr>\n",
       "      <th>160</th>\n",
       "      <td>953</td>\n",
       "      <td>6</td>\n",
       "      <td>13.0</td>\n",
       "      <td>2</td>\n",
       "      <td>88</td>\n",
       "      <td>5956</td>\n",
       "    </tr>\n",
       "  </tbody>\n",
       "</table>\n",
       "<p>161 rows × 6 columns</p>\n",
       "</div>"
      ],
      "text/plain": [
       "     Word count  # of Links  # of comments  # Images video  Elapsed days  \\\n",
       "0          1888           1            2.0               2            34   \n",
       "1          1742           9            NaN               9             5   \n",
       "2           962           6            0.0               1            10   \n",
       "3          1221           3            NaN               2            68   \n",
       "4          2039           1          104.0               4           131   \n",
       "..          ...         ...            ...             ...           ...   \n",
       "156        3239           3           11.0               1            84   \n",
       "157        2566           3            8.0               4            85   \n",
       "158        2089           4            4.0               1            86   \n",
       "159        1530           4           12.0               3            87   \n",
       "160         953           6           13.0               2            88   \n",
       "\n",
       "     # Shares  \n",
       "0      200000  \n",
       "1       25000  \n",
       "2       42000  \n",
       "3      200000  \n",
       "4      200000  \n",
       "..        ...  \n",
       "156      3239  \n",
       "157     25019  \n",
       "158     49614  \n",
       "159     33660  \n",
       "160      5956  \n",
       "\n",
       "[161 rows x 6 columns]"
      ]
     },
     "execution_count": 33,
     "metadata": {},
     "output_type": "execute_result"
    }
   ],
   "source": [
    "df"
   ]
  },
  {
   "cell_type": "code",
   "execution_count": 34,
   "metadata": {},
   "outputs": [],
   "source": [
    "# Update null values of a column with column average\n",
    "for feature in df.columns:\n",
    "    if df[feature].isna().sum() > 0:\n",
    "        df[feature] = df[feature].fillna(df[feature].mean())"
   ]
  },
  {
   "cell_type": "code",
   "execution_count": 35,
   "metadata": {},
   "outputs": [
    {
     "data": {
      "image/png": "[encoded data removed]",
      "text/plain": [
       "<Figure size 432x288 with 6 Axes>"
      ]
     },
     "metadata": {
      "needs_background": "light"
     },
     "output_type": "display_data"
    }
   ],
   "source": [
    "# Histograma\n",
    "df.drop(['# Shares'], 1).hist()\n",
    "plt.show()"
   ]
  },
  {
   "cell_type": "code",
   "execution_count": null,
   "metadata": {},
   "outputs": [],
   "source": [
    "## Correlación de las variables\n",
    "plt.figure(figsize=(15,15))\n",
    "p=sns.heatmap(df.corr(method=\"pearson\"), annot=True,cmap='RdYlGn',square=True)"
   ]
  },
  {
   "cell_type": "code",
   "execution_count": 40,
   "metadata": {},
   "outputs": [
    {
     "data": {
      "text/plain": [
       "Index(['Wordcount', 'Links', 'comments', 'multimedia', 'Elapseddays',\n",
       "       'Shares'],\n",
       "      dtype='object')"
      ]
     },
     "execution_count": 40,
     "metadata": {},
     "output_type": "execute_result"
    }
   ],
   "source": [
    "df.columns=['Wordcount','Links','comments','multimedia','Elapseddays','Shares']\n",
    "df.columns"
   ]
  },
  {
   "cell_type": "code",
   "execution_count": 41,
   "metadata": {},
   "outputs": [
    {
     "data": {
      "text/plain": [
       "(161, 1)"
      ]
     },
     "execution_count": 41,
     "metadata": {},
     "output_type": "execute_result"
    }
   ],
   "source": [
    "y = pd.DataFrame(df.Shares)\n",
    "y.shape"
   ]
  },
  {
   "cell_type": "code",
   "execution_count": 42,
   "metadata": {},
   "outputs": [
    {
     "data": {
      "text/plain": [
       "(161, 1)"
      ]
     },
     "execution_count": 42,
     "metadata": {},
     "output_type": "execute_result"
    }
   ],
   "source": [
    "# Selecciona el número de habitaciones de la casa\n",
    "X = pd.DataFrame(df.Wordcount)\n",
    "X.shape"
   ]
  },
  {
   "cell_type": "code",
   "execution_count": 43,
   "metadata": {
    "scrolled": true
   },
   "outputs": [
    {
     "data": {
      "image/png": "[encoded data removed]",
      "text/plain": [
       "<Figure size 432x288 with 1 Axes>"
      ]
     },
     "metadata": {
      "needs_background": "light"
     },
     "output_type": "display_data"
    }
   ],
   "source": [
    "# Graficamos los datos correspondientes\n",
    "plt.scatter(X, y)\n",
    "plt.xlabel('Wordcount')\n",
    "plt.ylabel('Shares')\n",
    "plt.show()"
   ]
  },
  {
   "cell_type": "code",
   "execution_count": 44,
   "metadata": {},
   "outputs": [],
   "source": [
    "from sklearn.model_selection import train_test_split\n",
    "# Se separan los datos de \"train\" en entrenamiento y prueba para probar los algoritmos\n",
    "X_train, X_test, y_train, y_test = train_test_split(X, y, test_size=0.2, random_state = 29)"
   ]
  },
  {
   "cell_type": "code",
   "execution_count": 45,
   "metadata": {},
   "outputs": [],
   "source": [
    "# Se define el algoritmo a utilizar\n",
    "modelo = linear_model.LinearRegression()\n",
    "# Entrenamiento del modelo\n",
    "modelo.fit(X_train, y_train)\n",
    "# Se realiza la predicción\n",
    "Y_pred = modelo.predict(X_test)"
   ]
  },
  {
   "cell_type": "code",
   "execution_count": 46,
   "metadata": {},
   "outputs": [
    {
     "data": {
      "image/png": "[encoded data removed]",
      "text/plain": [
       "<Figure size 432x288 with 1 Axes>"
      ]
     },
     "metadata": {
      "needs_background": "light"
     },
     "output_type": "display_data"
    }
   ],
   "source": [
    "# Grafica los datos junto con el modelo\n",
    "plt.scatter(X_test, y_test)\n",
    "plt.plot(X_test, Y_pred, color='red', linewidth=3)\n",
    "plt.title('Regresión Lineal Simple')\n",
    "plt.xlabel('cantidad de palabras del artículo')\n",
    "plt.ylabel('cantidad de veces que se compartió el artículo')\n",
    "plt.show()"
   ]
  },
  {
   "cell_type": "code",
   "execution_count": 47,
   "metadata": {},
   "outputs": [
    {
     "name": "stdout",
     "output_type": "stream",
     "text": [
      "Score modelo: 0.03\n",
      "Mean squared error: 612517812.14\n",
      "Coeficiente de determinación: 0.03\n"
     ]
    }
   ],
   "source": [
    "# Evaluación del modelo\n",
    "print(\"Score modelo: %.2f\" % modelo.score(X_test, y_test))\n",
    "print(\"Mean squared error: %.2f\" % np.mean((Y_pred - y_test)**2))\n",
    "print('Coeficiente de determinación: %.2f' % r2_score(y_test, Y_pred))\n",
    "#print(modelo.score(X_test, y_test))"
   ]
  },
  {
   "cell_type": "code",
   "execution_count": 48,
   "metadata": {},
   "outputs": [
    {
     "name": "stdout",
     "output_type": "stream",
     "text": [
      "Reales:      Shares\n",
      "61      867\n",
      "28    14000\n",
      "125   30912\n",
      "156    3239\n",
      "157   25019\n",
      "116   57058\n",
      "2     42000\n",
      "120    5153\n",
      "128   36707\n",
      "87     5261\n",
      "63      631\n",
      "155    8707\n",
      "93    55170\n",
      "90    56376\n",
      "31     3000\n",
      "89        0\n",
      "134   54198\n",
      "88    25548\n",
      "45     2500\n",
      "114   20880\n",
      "75    35691\n",
      "70      424\n",
      "76    11061\n",
      "146   55738\n",
      "10   100000\n",
      "7     77000\n",
      "160    5956\n",
      "48     1600\n",
      "133   23018\n",
      "39     6400\n",
      "121   34515\n",
      "119   31137\n",
      "153    2958\n",
      "Prediciones [[25220.79066339]\n",
      " [24769.25689107]\n",
      " [29269.02448415]\n",
      " [36052.4111556 ]\n",
      " [32559.51197436]\n",
      " [31843.28599068]\n",
      " [24234.682425  ]\n",
      " [25184.46035987]\n",
      " [29974.8703811 ]\n",
      " [29170.41366031]\n",
      " [24369.62355235]\n",
      " [25475.10278802]\n",
      " [34931.36178985]\n",
      " [32694.45310172]\n",
      " [25781.31534626]\n",
      " [31993.79724812]\n",
      " [31085.53966013]\n",
      " [28884.96127551]\n",
      " [24208.7322082 ]\n",
      " [37303.21160535]\n",
      " [28277.7262024 ]\n",
      " [32434.95093372]\n",
      " [25620.4240021 ]\n",
      " [31049.20935661]\n",
      " [30089.05133502]\n",
      " [23149.96336277]\n",
      " [24187.97203476]\n",
      " [24935.33827859]\n",
      " [27929.99329728]\n",
      " [23300.4746202 ]\n",
      " [28547.60845711]\n",
      " [25905.8763869 ]\n",
      " [31521.50330237]]\n"
     ]
    }
   ],
   "source": [
    "print(\"Reales:\", y_test)\n",
    "print(\"Prediciones\", Y_pred)"
   ]
  },
  {
   "cell_type": "markdown",
   "metadata": {},
   "source": [
    "### Ahora consideramos todas las características"
   ]
  },
  {
   "cell_type": "code",
   "execution_count": 52,
   "metadata": {},
   "outputs": [
    {
     "data": {
      "text/html": [
       "<div>\n",
       "<style scoped>\n",
       "    .dataframe tbody tr th:only-of-type {\n",
       "        vertical-align: middle;\n",
       "    }\n",
       "\n",
       "    .dataframe tbody tr th {\n",
       "        vertical-align: top;\n",
       "    }\n",
       "\n",
       "    .dataframe thead th {\n",
       "        text-align: right;\n",
       "    }\n",
       "</style>\n",
       "<table border=\"1\" class=\"dataframe\">\n",
       "  <thead>\n",
       "    <tr style=\"text-align: right;\">\n",
       "      <th></th>\n",
       "      <th>Wordcount</th>\n",
       "      <th>Links</th>\n",
       "      <th>comments</th>\n",
       "      <th>multimedia</th>\n",
       "      <th>Elapseddays</th>\n",
       "    </tr>\n",
       "  </thead>\n",
       "  <tbody>\n",
       "    <tr>\n",
       "      <th>0</th>\n",
       "      <td>1888</td>\n",
       "      <td>1</td>\n",
       "      <td>2.000000</td>\n",
       "      <td>2</td>\n",
       "      <td>34</td>\n",
       "    </tr>\n",
       "    <tr>\n",
       "      <th>1</th>\n",
       "      <td>1742</td>\n",
       "      <td>9</td>\n",
       "      <td>8.782946</td>\n",
       "      <td>9</td>\n",
       "      <td>5</td>\n",
       "    </tr>\n",
       "    <tr>\n",
       "      <th>2</th>\n",
       "      <td>962</td>\n",
       "      <td>6</td>\n",
       "      <td>0.000000</td>\n",
       "      <td>1</td>\n",
       "      <td>10</td>\n",
       "    </tr>\n",
       "    <tr>\n",
       "      <th>3</th>\n",
       "      <td>1221</td>\n",
       "      <td>3</td>\n",
       "      <td>8.782946</td>\n",
       "      <td>2</td>\n",
       "      <td>68</td>\n",
       "    </tr>\n",
       "    <tr>\n",
       "      <th>4</th>\n",
       "      <td>2039</td>\n",
       "      <td>1</td>\n",
       "      <td>104.000000</td>\n",
       "      <td>4</td>\n",
       "      <td>131</td>\n",
       "    </tr>\n",
       "    <tr>\n",
       "      <th>...</th>\n",
       "      <td>...</td>\n",
       "      <td>...</td>\n",
       "      <td>...</td>\n",
       "      <td>...</td>\n",
       "      <td>...</td>\n",
       "    </tr>\n",
       "    <tr>\n",
       "      <th>156</th>\n",
       "      <td>3239</td>\n",
       "      <td>3</td>\n",
       "      <td>11.000000</td>\n",
       "      <td>1</td>\n",
       "      <td>84</td>\n",
       "    </tr>\n",
       "    <tr>\n",
       "      <th>157</th>\n",
       "      <td>2566</td>\n",
       "      <td>3</td>\n",
       "      <td>8.000000</td>\n",
       "      <td>4</td>\n",
       "      <td>85</td>\n",
       "    </tr>\n",
       "    <tr>\n",
       "      <th>158</th>\n",
       "      <td>2089</td>\n",
       "      <td>4</td>\n",
       "      <td>4.000000</td>\n",
       "      <td>1</td>\n",
       "      <td>86</td>\n",
       "    </tr>\n",
       "    <tr>\n",
       "      <th>159</th>\n",
       "      <td>1530</td>\n",
       "      <td>4</td>\n",
       "      <td>12.000000</td>\n",
       "      <td>3</td>\n",
       "      <td>87</td>\n",
       "    </tr>\n",
       "    <tr>\n",
       "      <th>160</th>\n",
       "      <td>953</td>\n",
       "      <td>6</td>\n",
       "      <td>13.000000</td>\n",
       "      <td>2</td>\n",
       "      <td>88</td>\n",
       "    </tr>\n",
       "  </tbody>\n",
       "</table>\n",
       "<p>161 rows × 5 columns</p>\n",
       "</div>"
      ],
      "text/plain": [
       "     Wordcount  Links    comments  multimedia  Elapseddays\n",
       "0         1888      1    2.000000           2           34\n",
       "1         1742      9    8.782946           9            5\n",
       "2          962      6    0.000000           1           10\n",
       "3         1221      3    8.782946           2           68\n",
       "4         2039      1  104.000000           4          131\n",
       "..         ...    ...         ...         ...          ...\n",
       "156       3239      3   11.000000           1           84\n",
       "157       2566      3    8.000000           4           85\n",
       "158       2089      4    4.000000           1           86\n",
       "159       1530      4   12.000000           3           87\n",
       "160        953      6   13.000000           2           88\n",
       "\n",
       "[161 rows x 5 columns]"
      ]
     },
     "execution_count": 52,
     "metadata": {},
     "output_type": "execute_result"
    }
   ],
   "source": [
    "X = df[['Wordcount', 'Links', 'comments', 'multimedia', 'Elapseddays']]\n",
    "X"
   ]
  },
  {
   "cell_type": "code",
   "execution_count": 53,
   "metadata": {},
   "outputs": [],
   "source": [
    "# Se separan los datos de \"train\" en entrenamiento y prueba para probar los algoritmos\n",
    "X_train, X_test, y_train, y_test = train_test_split(X, y, test_size=0.2, random_state = 29)\n",
    "# Se entrena y se predice\n",
    "# Se define el algoritmo a utilizar\n",
    "modelo = linear_model.LinearRegression()\n",
    "# Entrenamiento del modelo\n",
    "modelo.fit(X_train, y_train)\n",
    "# Se realiza la predicción\n",
    "Y_pred = modelo.predict(X_test)"
   ]
  },
  {
   "cell_type": "code",
   "execution_count": 54,
   "metadata": {},
   "outputs": [
    {
     "name": "stdout",
     "output_type": "stream",
     "text": [
      "Score del modelo: -0.21\n",
      "Mean squared error: 761544592.06\n",
      "Coeficiente de determinación: -0.21\n"
     ]
    }
   ],
   "source": [
    "# Evaluación del modelo\n",
    "print(\"Score del modelo: %.2f\" % modelo.score(X_test, y_test))\n",
    "print(\"Mean squared error: %.2f\" % np.mean((Y_pred - y_test)**2))\n",
    "print(\"Coeficiente de determinación: %.2f\" % r2_score(y_test, Y_pred))"
   ]
  },
  {
   "cell_type": "code",
   "execution_count": null,
   "metadata": {},
   "outputs": [],
   "source": []
  }
 ],
 "metadata": {
  "kernelspec": {
   "display_name": "Python 3",
   "language": "python",
   "name": "python3"
  },
  "language_info": {
   "codemirror_mode": {
    "name": "ipython",
    "version": 3
   },
   "file_extension": ".py",
   "mimetype": "text/x-python",
   "name": "python",
   "nbconvert_exporter": "python",
   "pygments_lexer": "ipython3",
   "version": "3.8.5"
  }
 },
 "nbformat": 4,
 "nbformat_minor": 4
}
